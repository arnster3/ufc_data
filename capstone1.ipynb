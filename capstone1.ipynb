{
 "cells": [
  {
   "cell_type": "markdown",
   "metadata": {},
   "source": [
    "# Capstone 1"
   ]
  },
  {
   "cell_type": "markdown",
   "metadata": {},
   "source": [
    "The goal of this project is to see whether fighters in the Red Corner in UFC fights win at a higher rate than fighers in the Blue Corner."
   ]
  },
  {
   "cell_type": "markdown",
   "metadata": {},
   "source": [
    "### Introduction"
   ]
  },
  {
   "cell_type": "markdown",
   "metadata": {},
   "source": [
    "The **Ultimate Fighting Championship** (UFC from hereon) has existed since 1993 and has established itself as a top fight promoter. In 2018, there were a total of 473 fights, of which 18 were title bouts. The promotion brought in over $600 million in 2018, and lucrative deals with ESPN suggest that the promotion will continue to expand and increase profitability.\n",
    "\n",
    "In each UFC fight, one fighter is in the Red Corner, and one fighter is in the Blue Corner. For title bouts, determining which fighter goes in which corner is simple: the Red Corner is for the current champion, and the Blue Corner is for the challenger. For non-title bouts, however, the favored fighter is put in the Red Corner. Thus, an important question is whether or not fighters out of the Red Corner win more than their Blue Corner counterparts. Thankfully, there exists a dataset that will answer that question."
   ]
  },
  {
   "cell_type": "markdown",
   "metadata": {},
   "source": [
    "### The Dataset"
   ]
  },
  {
   "cell_type": "code",
   "execution_count": 28,
   "metadata": {},
   "outputs": [],
   "source": [
    "import pandas as pd\n",
    "from scipy import stats\n",
    "import matplotlib.pyplot as plt"
   ]
  },
  {
   "cell_type": "code",
   "execution_count": 5,
   "metadata": {},
   "outputs": [
    {
     "data": {
      "text/html": [
       "<div>\n",
       "<style scoped>\n",
       "    .dataframe tbody tr th:only-of-type {\n",
       "        vertical-align: middle;\n",
       "    }\n",
       "\n",
       "    .dataframe tbody tr th {\n",
       "        vertical-align: top;\n",
       "    }\n",
       "\n",
       "    .dataframe thead th {\n",
       "        text-align: right;\n",
       "    }\n",
       "</style>\n",
       "<table border=\"1\" class=\"dataframe\">\n",
       "  <thead>\n",
       "    <tr style=\"text-align: right;\">\n",
       "      <th></th>\n",
       "      <th>R_fighter</th>\n",
       "      <th>B_fighter</th>\n",
       "      <th>Referee</th>\n",
       "      <th>date</th>\n",
       "      <th>location</th>\n",
       "      <th>Winner</th>\n",
       "      <th>title_bout</th>\n",
       "      <th>weight_class</th>\n",
       "      <th>no_of_rounds</th>\n",
       "      <th>B_current_lose_streak</th>\n",
       "      <th>...</th>\n",
       "      <th>R_win_by_KO/TKO</th>\n",
       "      <th>R_win_by_Submission</th>\n",
       "      <th>R_win_by_TKO_Doctor_Stoppage</th>\n",
       "      <th>R_wins</th>\n",
       "      <th>R_Stance</th>\n",
       "      <th>R_Height_cms</th>\n",
       "      <th>R_Reach_cms</th>\n",
       "      <th>R_Weight_lbs</th>\n",
       "      <th>B_age</th>\n",
       "      <th>R_age</th>\n",
       "    </tr>\n",
       "  </thead>\n",
       "  <tbody>\n",
       "    <tr>\n",
       "      <th>0</th>\n",
       "      <td>Henry Cejudo</td>\n",
       "      <td>Marlon Moraes</td>\n",
       "      <td>Marc Goddard</td>\n",
       "      <td>2019-06-08</td>\n",
       "      <td>Chicago, Illinois, USA</td>\n",
       "      <td>Red</td>\n",
       "      <td>True</td>\n",
       "      <td>Bantamweight</td>\n",
       "      <td>5</td>\n",
       "      <td>0.0</td>\n",
       "      <td>...</td>\n",
       "      <td>2.0</td>\n",
       "      <td>0.0</td>\n",
       "      <td>0.0</td>\n",
       "      <td>8.0</td>\n",
       "      <td>Orthodox</td>\n",
       "      <td>162.56</td>\n",
       "      <td>162.56</td>\n",
       "      <td>135.0</td>\n",
       "      <td>31.0</td>\n",
       "      <td>32.0</td>\n",
       "    </tr>\n",
       "    <tr>\n",
       "      <th>1</th>\n",
       "      <td>Valentina Shevchenko</td>\n",
       "      <td>Jessica Eye</td>\n",
       "      <td>Robert Madrigal</td>\n",
       "      <td>2019-06-08</td>\n",
       "      <td>Chicago, Illinois, USA</td>\n",
       "      <td>Red</td>\n",
       "      <td>True</td>\n",
       "      <td>Women's Flyweight</td>\n",
       "      <td>5</td>\n",
       "      <td>0.0</td>\n",
       "      <td>...</td>\n",
       "      <td>0.0</td>\n",
       "      <td>2.0</td>\n",
       "      <td>0.0</td>\n",
       "      <td>5.0</td>\n",
       "      <td>Southpaw</td>\n",
       "      <td>165.10</td>\n",
       "      <td>167.64</td>\n",
       "      <td>125.0</td>\n",
       "      <td>32.0</td>\n",
       "      <td>31.0</td>\n",
       "    </tr>\n",
       "    <tr>\n",
       "      <th>2</th>\n",
       "      <td>Tony Ferguson</td>\n",
       "      <td>Donald Cerrone</td>\n",
       "      <td>Dan Miragliotta</td>\n",
       "      <td>2019-06-08</td>\n",
       "      <td>Chicago, Illinois, USA</td>\n",
       "      <td>Red</td>\n",
       "      <td>False</td>\n",
       "      <td>Lightweight</td>\n",
       "      <td>3</td>\n",
       "      <td>0.0</td>\n",
       "      <td>...</td>\n",
       "      <td>3.0</td>\n",
       "      <td>6.0</td>\n",
       "      <td>1.0</td>\n",
       "      <td>14.0</td>\n",
       "      <td>Orthodox</td>\n",
       "      <td>180.34</td>\n",
       "      <td>193.04</td>\n",
       "      <td>155.0</td>\n",
       "      <td>36.0</td>\n",
       "      <td>35.0</td>\n",
       "    </tr>\n",
       "    <tr>\n",
       "      <th>3</th>\n",
       "      <td>Jimmie Rivera</td>\n",
       "      <td>Petr Yan</td>\n",
       "      <td>Kevin MacDonald</td>\n",
       "      <td>2019-06-08</td>\n",
       "      <td>Chicago, Illinois, USA</td>\n",
       "      <td>Blue</td>\n",
       "      <td>False</td>\n",
       "      <td>Bantamweight</td>\n",
       "      <td>3</td>\n",
       "      <td>0.0</td>\n",
       "      <td>...</td>\n",
       "      <td>1.0</td>\n",
       "      <td>0.0</td>\n",
       "      <td>0.0</td>\n",
       "      <td>6.0</td>\n",
       "      <td>Orthodox</td>\n",
       "      <td>162.56</td>\n",
       "      <td>172.72</td>\n",
       "      <td>135.0</td>\n",
       "      <td>26.0</td>\n",
       "      <td>29.0</td>\n",
       "    </tr>\n",
       "    <tr>\n",
       "      <th>4</th>\n",
       "      <td>Tai Tuivasa</td>\n",
       "      <td>Blagoy Ivanov</td>\n",
       "      <td>Dan Miragliotta</td>\n",
       "      <td>2019-06-08</td>\n",
       "      <td>Chicago, Illinois, USA</td>\n",
       "      <td>Blue</td>\n",
       "      <td>False</td>\n",
       "      <td>Heavyweight</td>\n",
       "      <td>3</td>\n",
       "      <td>0.0</td>\n",
       "      <td>...</td>\n",
       "      <td>2.0</td>\n",
       "      <td>0.0</td>\n",
       "      <td>0.0</td>\n",
       "      <td>3.0</td>\n",
       "      <td>Southpaw</td>\n",
       "      <td>187.96</td>\n",
       "      <td>190.50</td>\n",
       "      <td>264.0</td>\n",
       "      <td>32.0</td>\n",
       "      <td>26.0</td>\n",
       "    </tr>\n",
       "  </tbody>\n",
       "</table>\n",
       "<p>5 rows × 145 columns</p>\n",
       "</div>"
      ],
      "text/plain": [
       "              R_fighter       B_fighter          Referee        date  \\\n",
       "0          Henry Cejudo   Marlon Moraes     Marc Goddard  2019-06-08   \n",
       "1  Valentina Shevchenko     Jessica Eye  Robert Madrigal  2019-06-08   \n",
       "2         Tony Ferguson  Donald Cerrone  Dan Miragliotta  2019-06-08   \n",
       "3         Jimmie Rivera        Petr Yan  Kevin MacDonald  2019-06-08   \n",
       "4           Tai Tuivasa   Blagoy Ivanov  Dan Miragliotta  2019-06-08   \n",
       "\n",
       "                 location Winner  title_bout       weight_class  no_of_rounds  \\\n",
       "0  Chicago, Illinois, USA    Red        True       Bantamweight             5   \n",
       "1  Chicago, Illinois, USA    Red        True  Women's Flyweight             5   \n",
       "2  Chicago, Illinois, USA    Red       False        Lightweight             3   \n",
       "3  Chicago, Illinois, USA   Blue       False       Bantamweight             3   \n",
       "4  Chicago, Illinois, USA   Blue       False        Heavyweight             3   \n",
       "\n",
       "   B_current_lose_streak  ...  R_win_by_KO/TKO  R_win_by_Submission  \\\n",
       "0                    0.0  ...              2.0                  0.0   \n",
       "1                    0.0  ...              0.0                  2.0   \n",
       "2                    0.0  ...              3.0                  6.0   \n",
       "3                    0.0  ...              1.0                  0.0   \n",
       "4                    0.0  ...              2.0                  0.0   \n",
       "\n",
       "   R_win_by_TKO_Doctor_Stoppage  R_wins  R_Stance  R_Height_cms  R_Reach_cms  \\\n",
       "0                           0.0     8.0  Orthodox        162.56       162.56   \n",
       "1                           0.0     5.0  Southpaw        165.10       167.64   \n",
       "2                           1.0    14.0  Orthodox        180.34       193.04   \n",
       "3                           0.0     6.0  Orthodox        162.56       172.72   \n",
       "4                           0.0     3.0  Southpaw        187.96       190.50   \n",
       "\n",
       "   R_Weight_lbs  B_age  R_age  \n",
       "0         135.0   31.0   32.0  \n",
       "1         125.0   32.0   31.0  \n",
       "2         155.0   36.0   35.0  \n",
       "3         135.0   26.0   29.0  \n",
       "4         264.0   32.0   26.0  \n",
       "\n",
       "[5 rows x 145 columns]"
      ]
     },
     "execution_count": 5,
     "metadata": {},
     "output_type": "execute_result"
    }
   ],
   "source": [
    "ufc_data = pd.read_csv('C:\\\\ufc_data.csv')\n",
    "ufc_data.head()"
   ]
  },
  {
   "cell_type": "markdown",
   "metadata": {},
   "source": [
    "This [dataset](https://www.kaggle.com/rajeevw/ufcdata), found at Kaggle, contains the results of every UFC fight from the promotion's inception in 1993 to June of this year. As can be seen above, each row lists the fighter in each corner, the result, whether or not the fight was a title bout, in addition to a large amount of other data."
   ]
  },
  {
   "cell_type": "markdown",
   "metadata": {},
   "source": [
    "### Hypothesis\n",
    "Due to the UFC's own criteria for Red Corner, it is likely that fighters in the Red Corner should win more than fighters in the Blue Corner. The hypothesis to be tested in this analysis is that fighters in the Red Corner win more than fighters in the Blue Corner. Naturally, the null hypothesis is that fighters in the Red Corner and fighters in the Blue Corner win at the same rate.\n",
    "\n",
    "For the purposes of statistical analysis, the *Winner* column listing \"Red\", \"Blue\", and \"Draw\" is not particularly helpful, so those entries must be converted to numerical values."
   ]
  },
  {
   "cell_type": "code",
   "execution_count": 7,
   "metadata": {},
   "outputs": [
    {
     "data": {
      "text/plain": [
       "0    1\n",
       "1    1\n",
       "2    1\n",
       "3   -1\n",
       "4   -1\n",
       "Name: Winner, dtype: int64"
      ]
     },
     "execution_count": 7,
     "metadata": {},
     "output_type": "execute_result"
    }
   ],
   "source": [
    "#red = 1, blue = -1, draw = 0\n",
    "ufc_data['Winner'].replace('Draw',0,inplace=True)\n",
    "ufc_data['Winner'].replace('Red',1,inplace=True)\n",
    "ufc_data['Winner'].replace('Blue',-1,inplace=True)\n",
    "ufc_data['Winner'].head()"
   ]
  },
  {
   "cell_type": "markdown",
   "metadata": {},
   "source": [
    "Red has been replaced with 1; Blue has been replaced with -1; and Draw has been replaced with 0. Now, it is possible to do statistical analysis based on the *Winner* column."
   ]
  },
  {
   "cell_type": "code",
   "execution_count": 11,
   "metadata": {},
   "outputs": [
    {
     "name": "stdout",
     "output_type": "stream",
     "text": [
      "0.6179104477611941\n",
      "0.347681430650863\n"
     ]
    }
   ],
   "source": [
    "#break results into two frames: title fights, non-title fights\n",
    "only_titles = ufc_data[ufc_data['title_bout']==True]\n",
    "no_titles = ufc_data[ufc_data['title_bout']==False]\n",
    "print(only_titles['Winner'].mean())\n",
    "print(no_titles['Winner'].mean())"
   ]
  },
  {
   "cell_type": "markdown",
   "metadata": {},
   "source": [
    "Across both title and non-title bouts, Red Fighters win more. This is evident from the fact that the mean of the *Winner* column for each frame is above 0. If fighters in each corner win at the same rates, the mean should be 0."
   ]
  },
  {
   "cell_type": "code",
   "execution_count": 12,
   "metadata": {},
   "outputs": [
    {
     "name": "stdout",
     "output_type": "stream",
     "text": [
      "Ttest_indResult(statistic=5.19833667479254, pvalue=2.0885992505618584e-07)\n"
     ]
    }
   ],
   "source": [
    "#comapring the rates for title bouts and non-title bouts\n",
    "print(stats.ttest_ind(only_titles['Winner'],no_titles['Winner']))"
   ]
  },
  {
   "cell_type": "markdown",
   "metadata": {},
   "source": [
    "Interestingly, while fighters in the Red Corner perform better in both title and non-title bouts, the difference in win rates between title and non-title bouts is significant. This statistical significance is logical, because in title bouts, the fighter in the Red Corner is the defending champion. It is reasonable to expect that the defending champion would be able to win again."
   ]
  },
  {
   "cell_type": "markdown",
   "metadata": {},
   "source": [
    "### Modifying the Dataset\n",
    "Unfortunately, the basic Kaggle dataset has no aggregated data for each fighter. Since each row is a single fight, an individual fighter may be in the Red Corner in one row, but in the Blue Corner in a separate row. This fact makes it impossible to compare individual fighters and to truly find out if the Red Corner outperforms the Blue Corner. To remedy this problem, individual fighter data can be aggregated by iterating through the initial dataset and creating an entirely new dataset."
   ]
  },
  {
   "cell_type": "code",
   "execution_count": 13,
   "metadata": {},
   "outputs": [],
   "source": [
    "#Code here is commented out because it takes time to run\n",
    "\n",
    "#unique_r = []\n",
    "#for element in ufc_data['R_fighter'].unique():\n",
    "#    unique_r.append(element)\n",
    "#unique_b = []\n",
    "#for element in ufc_data['B_fighter'].unique():\n",
    "#    unique_b.append(element)\n",
    "\n",
    "#all_fighters = unique_r\n",
    "#for element in unique_b:\n",
    "#    if element not in all_fighters:\n",
    "#        all_fighters.append(element)\n",
    "\n",
    "#list_dict = [{} for _ in range(len(all_fighters))]\n",
    "        \n",
    "#for i in range(len(all_fighters)):\n",
    "#    list_dict[i]['name'] = all_fighters[i]\n",
    "#    r_fights = len(ufc_data.loc[ufc_data['R_fighter']==all_fighters[i]])\n",
    "#    b_fights = len(ufc_data.loc[ufc_data['B_fighter']==all_fighters[i]])\n",
    "#    r_wins = len(ufc_data[(ufc_data['R_fighter']==all_fighters[i]) & (ufc_data['Winner']==1)])\n",
    "#    b_wins = len(ufc_data[(ufc_data['B_fighter']==all_fighters[i]) & (ufc_data['Winner']==-1)])    \n",
    "#    list_dict[i]['r_fights'] = r_fights\n",
    "#    list_dict[i]['r_wins'] = r_wins\n",
    "#    list_dict[i]['b_fights'] = b_fights\n",
    "#    list_dict[i]['b_wins'] = b_wins\n",
    "#    list_dict[i]['total_fights'] = list_dict[i]['r_fights']+list_dict[i]['b_fights']\n",
    "#    list_dict[i]['r_win_pct'] = list_dict[i]['r_wins']/list_dict[i][r_fights]\n",
    "#    list_dict[i]['b_win_pct'] = list_dict[i]['b_wins']/list_dict[i][b_fights]\n",
    "#    list_dict[i]['win_pct'] = (list_dict[i][r_wins] + list_dict[i][b_wins])/list_dict[i][total_fights]"
   ]
  },
  {
   "cell_type": "markdown",
   "metadata": {},
   "source": [
    "The above code first creates a list of all unique fighters would fought in the red corner (unique_r) and the blue corner (unique_b). Following that, a unique list of all fighters (all_fighters) is constructed. Then, a list of dictionaries is created with length matching the length of all_fighters. From this point, a long `for` loop iterates through each entry in both all_fighters and ufc_data. For each fighter in all_fighters, Red Corner fights (r_fights), Red Corner wins (r_wins), Blue Corner fights (b_fights), and Blue Corner wins (b_wins) is calculated. Total fights is also computed from the sum of r_fights and blue_fights. Red win percentage (r_win_pct), blue win percentage (b_win_pct), and overall win percentage (win_pct) are additionally calculated. Following the construction of the list of dictionaries, dictionary entries are moved to an array structure."
   ]
  },
  {
   "cell_type": "code",
   "execution_count": 15,
   "metadata": {},
   "outputs": [
    {
     "data": {
      "text/html": [
       "<div>\n",
       "<style scoped>\n",
       "    .dataframe tbody tr th:only-of-type {\n",
       "        vertical-align: middle;\n",
       "    }\n",
       "\n",
       "    .dataframe tbody tr th {\n",
       "        vertical-align: top;\n",
       "    }\n",
       "\n",
       "    .dataframe thead th {\n",
       "        text-align: right;\n",
       "    }\n",
       "</style>\n",
       "<table border=\"1\" class=\"dataframe\">\n",
       "  <thead>\n",
       "    <tr style=\"text-align: right;\">\n",
       "      <th></th>\n",
       "      <th>name</th>\n",
       "      <th>r_fights</th>\n",
       "      <th>r_wins</th>\n",
       "      <th>b_fights</th>\n",
       "      <th>b_wins</th>\n",
       "      <th>total_fights</th>\n",
       "      <th>win_pct</th>\n",
       "      <th>r_win_pct</th>\n",
       "      <th>b_win_pct</th>\n",
       "    </tr>\n",
       "  </thead>\n",
       "  <tbody>\n",
       "    <tr>\n",
       "      <th>0</th>\n",
       "      <td>Henry Cejudo</td>\n",
       "      <td>6</td>\n",
       "      <td>6</td>\n",
       "      <td>5</td>\n",
       "      <td>3</td>\n",
       "      <td>11</td>\n",
       "      <td>0.818182</td>\n",
       "      <td>1.000000</td>\n",
       "      <td>0.600000</td>\n",
       "    </tr>\n",
       "    <tr>\n",
       "      <th>1</th>\n",
       "      <td>Valentina Shevchenko</td>\n",
       "      <td>4</td>\n",
       "      <td>4</td>\n",
       "      <td>4</td>\n",
       "      <td>2</td>\n",
       "      <td>8</td>\n",
       "      <td>0.750000</td>\n",
       "      <td>1.000000</td>\n",
       "      <td>0.500000</td>\n",
       "    </tr>\n",
       "    <tr>\n",
       "      <th>2</th>\n",
       "      <td>Tony Ferguson</td>\n",
       "      <td>12</td>\n",
       "      <td>11</td>\n",
       "      <td>4</td>\n",
       "      <td>4</td>\n",
       "      <td>16</td>\n",
       "      <td>0.937500</td>\n",
       "      <td>0.916667</td>\n",
       "      <td>1.000000</td>\n",
       "    </tr>\n",
       "    <tr>\n",
       "      <th>3</th>\n",
       "      <td>Jimmie Rivera</td>\n",
       "      <td>5</td>\n",
       "      <td>2</td>\n",
       "      <td>4</td>\n",
       "      <td>4</td>\n",
       "      <td>9</td>\n",
       "      <td>0.666667</td>\n",
       "      <td>0.400000</td>\n",
       "      <td>1.000000</td>\n",
       "    </tr>\n",
       "    <tr>\n",
       "      <th>4</th>\n",
       "      <td>Tai Tuivasa</td>\n",
       "      <td>2</td>\n",
       "      <td>1</td>\n",
       "      <td>3</td>\n",
       "      <td>2</td>\n",
       "      <td>5</td>\n",
       "      <td>0.600000</td>\n",
       "      <td>0.500000</td>\n",
       "      <td>0.666667</td>\n",
       "    </tr>\n",
       "  </tbody>\n",
       "</table>\n",
       "</div>"
      ],
      "text/plain": [
       "                   name  r_fights  r_wins  b_fights  b_wins  total_fights  \\\n",
       "0          Henry Cejudo         6       6         5       3            11   \n",
       "1  Valentina Shevchenko         4       4         4       2             8   \n",
       "2         Tony Ferguson        12      11         4       4            16   \n",
       "3         Jimmie Rivera         5       2         4       4             9   \n",
       "4           Tai Tuivasa         2       1         3       2             5   \n",
       "\n",
       "    win_pct  r_win_pct  b_win_pct  \n",
       "0  0.818182   1.000000   0.600000  \n",
       "1  0.750000   1.000000   0.500000  \n",
       "2  0.937500   0.916667   1.000000  \n",
       "3  0.666667   0.400000   1.000000  \n",
       "4  0.600000   0.500000   0.666667  "
      ]
     },
     "execution_count": 15,
     "metadata": {},
     "output_type": "execute_result"
    }
   ],
   "source": [
    "win_loss = pd.read_csv('C:\\\\win_loss.csv')\n",
    "win_loss.head()"
   ]
  },
  {
   "cell_type": "markdown",
   "metadata": {},
   "source": [
    "After the long `for` loop, a nice-looking dataset has been constructed. Each fighter has a unique row tabulating total fights in each corner, total wins in each corner, win rate in each corner, and overall win rate.\n",
    "\n",
    "Now it will be possible to see if there is a significant difference between the Red Corner and the Blue Corner. Win rates in each individual corner will be able to be compared across all fighters."
   ]
  },
  {
   "cell_type": "code",
   "execution_count": 32,
   "metadata": {},
   "outputs": [
    {
     "name": "stdout",
     "output_type": "stream",
     "text": [
      "0.4162476910574412\n",
      "0.22664908203289746\n"
     ]
    },
    {
     "data": {
      "image/png": "[encoded data removed]",
      "text/plain": [
       "<Figure size 432x288 with 1 Axes>"
      ]
     },
     "metadata": {
      "needs_background": "light"
     },
     "output_type": "display_data"
    }
   ],
   "source": [
    "#show means of both columns and then compare via boxplot\n",
    "print(win_loss['r_win_pct'].mean())\n",
    "print(win_loss['b_win_pct'].mean())\n",
    "win_loss.boxplot(column=['r_win_pct', 'b_win_pct']);"
   ]
  },
  {
   "cell_type": "markdown",
   "metadata": {},
   "source": [
    "From the means and the boxplot, it looks as though fighters in the Red Corner win more. This comparison is more powerful because it is across all fighters and compares the win rates for each fighter in each corner. To see if the differences are actually significant, a t-test is the next step."
   ]
  },
  {
   "cell_type": "code",
   "execution_count": 33,
   "metadata": {},
   "outputs": [
    {
     "name": "stdout",
     "output_type": "stream",
     "text": [
      "Ttest_indResult(statistic=15.761918420283592, pvalue=2.7986868187387905e-54)\n"
     ]
    }
   ],
   "source": [
    "print(stats.ttest_ind(win_loss['r_win_pct'],win_loss['b_win_pct']))"
   ]
  },
  {
   "cell_type": "markdown",
   "metadata": {},
   "source": [
    "The t-test confirms that the difference is significant. There is now sufficient evidence to reject the null hypothesis and accept that fighters in the Red Corner win more than fighters in the Blue Corner."
   ]
  },
  {
   "cell_type": "markdown",
   "metadata": {},
   "source": [
    "### Conclusion\n",
    "From the initial dataset, it was apparent the fighters in the Red Corner won more than fighters in the Blue Corner. This difference was especially apparent in the case of title bouts. After reworking the initial dataset into a new dataset for easier comparison, it became clear that the win rate differences were statistically significant, confirming the hypothesis posited at the outset of the project. This result means that the criteria for selecting the Red Corner fighter in non-title bouts are accurate. Red Corner is thus a predictor of the outcome of the fight."
   ]
  },
  {
   "cell_type": "markdown",
   "metadata": {},
   "source": [
    "### Going Forward\n",
    "There is a large amount of data available in the base UFC dataset. For future investigation, using data not used in this capstone may provide good insight into the outcomes of UFC fights. A good place to start may be fighter ages as well as fighter win streaks."
   ]
  }
 ],
 "metadata": {
  "kernelspec": {
   "display_name": "Python 3",
   "language": "python",
   "name": "python3"
  },
  "language_info": {
   "codemirror_mode": {
    "name": "ipython",
    "version": 3
   },
   "file_extension": ".py",
   "mimetype": "text/x-python",
   "name": "python",
   "nbconvert_exporter": "python",
   "pygments_lexer": "ipython3",
   "version": "3.7.3"
  }
 },
 "nbformat": 4,
 "nbformat_minor": 2
}
